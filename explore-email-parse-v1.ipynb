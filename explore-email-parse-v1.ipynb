{
 "cells": [
  {
   "cell_type": "code",
   "execution_count": 93,
   "metadata": {},
   "outputs": [],
   "source": [
    "import mailparser\n",
    "from bs4 import BeautifulSoup\n",
    "\n",
    "'''\n",
    "Description: \n",
    "I get too many emails. I just want to see headers that seem the most relevant to me and are less likely to be spam. I'll go check if out if I care. \n",
    "'''\n",
    "\n",
    "with open('./emails/', 'rb') as f:\n",
    "  email_str = f.read()\n",
    "mail = mailparser.parse_from_string(email_str.decode())"
   ]
  },
  {
   "cell_type": "code",
   "execution_count": 94,
   "metadata": {},
   "outputs": [],
   "source": [
    "soup = BeautifulSoup(mail.text_html[0], 'html.parser')"
   ]
  },
  {
   "cell_type": "code",
   "execution_count": 95,
   "metadata": {},
   "outputs": [
    {
     "data": {
      "text/plain": [
       "['What’s on Biden’s wish list?',\n",
       " 'Stocks are down—this is up',\n",
       " 'Tour de headlines',\n",
       " 'Senators grill Norfolk Southern CEO over derailments',\n",
       " 'Spotify wants some scroll capital',\n",
       " 'Key performance indicators',\n",
       " 'Quiz while you’re ahead',\n",
       " 'What else is brewing',\n",
       " 'Get smarter about your finances',\n",
       " 'The puzzle section',\n",
       " 'Build your confidence']"
      ]
     },
     "execution_count": 95,
     "metadata": {},
     "output_type": "execute_result"
    }
   ],
   "source": [
    "h1 = soup.findAll('h1')\n",
    "[e.text.strip() for e in h1]"
   ]
  },
  {
   "cell_type": "code",
   "execution_count": 96,
   "metadata": {},
   "outputs": [
    {
     "data": {
      "text/plain": [
       "['p:',\n",
       " 'p:TOGETHER WITH',\n",
       " 'p:Good morning. Today has been dubbed Mario Day, and you wanna know why? Because it’s March 10, and if you squish that to Mar10, it looks a lot like “Mario.”',\n",
       " 'p:Mario Day had us thinking of other “holidays” that could be established based on combining months + numbers that resemble letters. One idea: Jan15—a celebration of Janis Joplin.',\n",
       " 'p:If you get bored today, try some combinations and tell us what new holidays you’ve created.',\n",
       " 'p:—Jamie Wilde, Max Knoblauch, Matty Merritt, Neal Freyman',\n",
       " 'h3:MARKETS',\n",
       " 'p:Nasdaq',\n",
       " 'p:11,338.35',\n",
       " 'p:-2.05%',\n",
       " 'p:S&P',\n",
       " 'p:3,918.32',\n",
       " 'p:-1.85%',\n",
       " 'p:Dow',\n",
       " 'p:32,254.86',\n",
       " 'p:-1.66%',\n",
       " 'p:10-Year',\n",
       " 'p:3.911%',\n",
       " 'p:-8.1 bps',\n",
       " 'p:Bitcoin',\n",
       " 'p:$20,293.58',\n",
       " 'p:-7.78%',\n",
       " 'p:SVB',\n",
       " 'p:$106.04',\n",
       " 'p:-60.41%',\n",
       " \"p:*Stock data as of market close, cryptocurrency data as of  3:00am ET.\\r\\nHere's what these numbers mean.\",\n",
       " 'h3:ECONOMY',\n",
       " 'h1:What’s on Biden’s wish list?',\n",
       " 'p:President Biden laid out his ideal 2024 budget plan yesterday. Maybe we should say ideal-istic, because it’s the White House’s version of asking that no one gift wine to a white elephant. While the proposals are unlikely to be approved by the split Congress, they give a sneak peek of Biden’s policy priorities heading into the next election cycle.',\n",
       " 'p:The proposed budget rings in at $6.9 trillion (nice). Here are a few key items in the plan…',\n",
       " 'p:Biden’s other big goal? Reducing deficit spending by $3 trillion in the next decade to rein in the national debt.',\n",
       " 'h2:Who’s paying for this?',\n",
       " 'p:Biden hopes to raise $4.7 trillion over 10 years by hiking taxes on the kind of folks whose couches aren’t against a wall.',\n",
       " 'p:Looking ahead…the GOP likes tax hikes as much as New Yorkers like a Los Angeles bagel, and the Republican-led House is already planning to reject Biden’s budget as proposed. But consider the budget an icebreaker—or more like throwing ice into an inferno—to get conversations going.—JW',\n",
       " 'h3:TOGETHER WITH RAD DIVERSIFIED',\n",
       " 'h1:Stocks are down—this is up',\n",
       " 'p:We don’t blame you if the stock market is tying your stomach in knots. It’s been a long year of ups and downs (mostly downs, TBH).',\n",
       " 'p:But there’s another way to invest: RAD Diversified.',\n",
       " 'p:RADD is a nontraded public REIT, which means shares of RADD aren’t stuck yo-yoing with the rest of the market. RADD’s share price has increased every year since its founding in 2019, jumping an eye-popping 122.22% in total.',\n",
       " 'p:That’s not even the best part. RADD’s expertly managed $100m real estate portfolio keeps growing and generating revenue, which RADD passes on to investors like you through a ~cash dividend~.',\n",
       " 'p:Want to join the fun? Learn how you can invest today.',\n",
       " 'h3:WORLD',\n",
       " 'h1:Tour de headlines',\n",
       " 'p:Bank stocks get routed. The US banking sector had its worst trading day in almost three years after trouble at Silicon Valley Bank (SVB) sent chills through the industry. Shares of SVB’s parent company tanked a record 60% yesterday after it launched an effort to raise more than $2 billion in capital to mitigate declining deposits. SVB works with almost half of US venture-backed tech and life sciences companies, and some VCs have begun to tell their founders to yank their money from the bank, Semafor reported.',\n",
       " 'p:Visa, Mastercard, others pause plan to track gun shop purchases. Major payment networks halted their plan to implement a new merchant category code for sales at gun stores, citing legal uncertainty. Gun control advocates had hoped that by categorizing gun store purchases, payment giants would help authorities spot suspicious activity. But GOP lawmakers pushed back, arguing it would infringe on consumer protections. And several bills have been introduced in state legislatures that would ban this type of tracking.',\n",
       " 'p:Allbirds stepped in some doo-doo. The crunchy sneaker brand reported a brutal fourth quarter, posting a 13% annual drop in revenue, and announced a broad strategy shakeup that includes hitting the brake on opening more retail stores. What went wrong? Once the comfy footwear of choice for tech bros in Silicon Valley offices, Allbirds began trying to attract elite athletes with high-performance running sneakers. But customers weren’t “ready for us to serve them in that area,” co-CEO Joey Zwillinger told CNBC.',\n",
       " 'h3:TRANSPORTATION',\n",
       " 'h1:Senators grill Norfolk Southern CEO over derailments',\n",
       " 'p:While testifying on Capitol Hill yesterday, Norfolk Southern CEO Alan H. Shaw said he was “deeply sorry” for the company’s early February train derailment in East Palestine, Ohio, that spilled hazardous chemicals into the surrounding soil and killed nearly 45,000 animals. In front of an antagonistic Senate Environment and Public Works Committee, Shaw outlined the company’s efforts to restore the area.',\n",
       " 'p:According to Shaw, Norfolk Southern has committed more than $21 million to East Palestine and provided financial support to 4,400 families. However, Shaw notably didn’t promise to pay for the long-term medical costs of residents or economic damage to the area.',\n",
       " 'p:Senators also chided Shaw for declining to endorse bipartisan rail safety legislation introduced last week by Ohio Senators Sherrod Brown and JD Vance.',\n",
       " 'p:Bad timing: Another Norfolk Southern train derailed in Alabama hours before the hearing. About 30 train cars jumped the track, according to a local news release, but no injuries or hazardous spills were reported. It marks the third major derailment since early February for Norfolk Southern.',\n",
       " 'p:Looking ahead…the National Transportation Safety Board said earlier this week that it opened a special investigation into safety practices at Norfolk Southern. The company’s accident rate jumped 81% between 2013 and 2022, according to Politico.—MK',\n",
       " 'h3:TOGETHER WITH SMARTASSET',\n",
       " 'p:Feel good financially. Life should be a balance of adventure and relaxation, not finances. Enter: working with a financial advisor. But choosing the wrong advisor could potentially wreak havoc on your retirement. Avoid these 7 common mistakes when hiring one so you can embrace more peace of mind in your golden years.',\n",
       " 'h3:MEDIA',\n",
       " 'h1:Spotify wants some scroll capital',\n",
       " 'p:When you open Spotify today to blast Miley Cyrus’s new album of breakup bops and future karaoke picks, the app might look a little different. The audio streamer has redesigned its mobile app and—surprise—it kind of looks like TikTok.',\n",
       " 'p:The most drastic changes include vertical, TikTok-like discovery feeds for music, podcasts, and audiobooks that let you scroll through previews of each type of content.',\n",
       " 'p:With its TikTokification, Spotify joins the ranks of Reddit, Netflix, Instagram, and YouTube, which have all doubled down on people’s desire to only see bite-sized versions of everything while using their phones. Some new features started rolling out Wednesday, and the company announced that more will come online soon.',\n",
       " 'p:Big picture: Spotify said these changes amount to the app’s biggest revamp ever and are intended to help users discover new music and let artists showcase their work in front of potential fans. The glow-up comes less than a month after Spotify introduced the AI DJ feature to its app.—MM',\n",
       " 'h3:GRAB BAG',\n",
       " 'h1:Key performance indicators',\n",
       " 'p:Stat: The frequently mocked search engine Bing has cleared 100 million daily active users, Microsoft’s head of consumer marketing wrote in a blog post. The search engine got a “little bit of a boost” after launching its AI-powered Bing Chat feature a month ago, but it’s also benefited from Microsoft pushing it hard on users via its Edge browser. We’re still far from everyone saying “Bing it,” though—Google has more than 1 billion daily active users.',\n",
       " 'p:Quote: “We have decided to turn over those who were directly involved and responsible in the events.”',\n",
       " 'p:The Mexican drug cartel blamed for kidnapping four American tourists and killing two of them has apologized. In a letter claiming to be written by the Scorpions faction of the Gulf cartel, the authors regretted the violence and said they handed over the perpetrators to authorities. Cartels have been known to turn on the PR machine whenever they sense a threat to their business operations, according to the AP, which obtained the letter.',\n",
       " 'p:Read: Why a Vanderpump Rules breakup is the Red Wedding of reality TV. (Polygon)',\n",
       " 'h3:QUIZ',\n",
       " 'h1:Quiz while you’re ahead',\n",
       " 'p:The feeling of getting a 5/5 on the Brew’s Weekly News Quiz has been compared to a cold shower after hot yoga.',\n",
       " 'p:It’s that satisfying. Ace the quiz.',\n",
       " 'h3:NEWS',\n",
       " 'h1:What else is brewing',\n",
       " 'h3:RECS',\n",
       " 'p:Conversation starter: Where does your city fall on this graph?',\n",
       " 'p:AI detractors: Read this Op-Ed from Noam Chomsky and others about the “false promise of ChatGPT.”',\n",
       " 'p:Oh yeah: A video showcasing the most iconic “yeah”s in pop music.',\n",
       " 'p:Celebrate women: Hear from successful women leaders on topics like marketing, branding, finance, and reputation management at Yelp’s free virtual event on March 16.*',\n",
       " 'p:A sparkling spinal solution: The $1b disc-replacement market is full of products that wear out over time. Dymicron is changing that. Read about their durable diamond discs and how you can invest.*',\n",
       " 'p:*This is sponsored advertising content.',\n",
       " 'h3:FROM THE CREW',\n",
       " 'h1:Get smarter about your finances',\n",
       " 'p:Finance bros are out, rich girls are in. Katie Gatti knows about money and is here to help you manifest your financial freedom. Join Katie and her guests as they talk about spending habits, smart investing, and tax strategies—without putting you to sleep. Check out some of her most popular episodes:',\n",
       " 'p:This editorial content is supported by TaxAct.',\n",
       " 'h3:GAMES',\n",
       " 'h1:The puzzle section',\n",
       " 'p:Picodku: If you haven’t tried Picdoku yet, it’s like sudoku…just with pictures. Today’s pictures are of wildflowers. Check it out.',\n",
       " 'h2:Friday puzzle',\n",
       " 'p:Here’s a clever word puzzle from NPR:',\n",
       " 'p:Name a branch of scientific study. Drop the last letter. Then rearrange the remaining letters to name two subjects of that study. What branch of science is it?',\n",
       " 'h3:AROUND THE BREW',\n",
       " 'h1:Build your confidence',\n",
       " 'p:Remember Elle’s confidence when she ran into Warner for the first time at Harvard? Get the same level of conviction in business financials and budget-building with the Brew’s hit course Financial Forecasting. Kickoff is March 20—reserve your spot today.',\n",
       " 'p:Want to know how the world’s biggest companies are creating, using, and investing in new technology to propel their businesses forward? Find out here.',\n",
       " 'p:Bots aren’t stealing copywriting jobs. Yet. Instead, AI-powered tools can simplify content creation and management for marketers. Read more.',\n",
       " 'h3:SHARE THE BREW',\n",
       " 'p:Share Morning Brew with your friends, acquire free Brew swag, and then acquire more friends as a result of your fresh Brew swag.',\n",
       " 'p:We’re saying we’ll give you free stuff and more friends if you share a link. One link.',\n",
       " 'p:',\n",
       " 'p:Your referral count: 14',\n",
       " 'p:Or copy & paste your referral link to others:morningbrew.com/daily/r/?kid=bf2a442f',\n",
       " 'h3:ANSWER',\n",
       " 'p:Astronomy: star and moon',\n",
       " 'p:Written by\\r\\nNeal Freyman, Max Knoblauch, Matty Merritt, and Jamie Wilde',\n",
       " 'p:Was this email forwarded to you? Sign up\\r\\nhere.',\n",
       " 'p:Take The Brew to work',\n",
       " 'p:Interested in podcasts?']"
      ]
     },
     "execution_count": 96,
     "metadata": {},
     "output_type": "execute_result"
    }
   ],
   "source": [
    "[f\"{e.name}:{e.text.strip()}\" for e in soup.findAll(['h1', 'h2', 'h3', 'h4', 'h5', 'h6', 'p'])]"
   ]
  },
  {
   "cell_type": "code",
   "execution_count": null,
   "metadata": {},
   "outputs": [],
   "source": []
  },
  {
   "cell_type": "code",
   "execution_count": null,
   "metadata": {},
   "outputs": [],
   "source": []
  }
 ],
 "metadata": {
  "kernelspec": {
   "display_name": "chefai",
   "language": "python",
   "name": "python3"
  },
  "language_info": {
   "codemirror_mode": {
    "name": "ipython",
    "version": 3
   },
   "file_extension": ".py",
   "mimetype": "text/x-python",
   "name": "python",
   "nbconvert_exporter": "python",
   "pygments_lexer": "ipython3",
   "version": "3.10.9 (main, Dec 15 2022, 10:44:50) [Clang 14.0.0 (clang-1400.0.29.202)]"
  },
  "orig_nbformat": 4,
  "vscode": {
   "interpreter": {
    "hash": "c9ab0ce77429bf21b162946c86867728d57398e1f0c531e1779451da9d57cc1d"
   }
  }
 },
 "nbformat": 4,
 "nbformat_minor": 2
}
