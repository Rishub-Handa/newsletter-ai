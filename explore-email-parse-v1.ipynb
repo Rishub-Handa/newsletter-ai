{
 "cells": [
  {
   "cell_type": "code",
   "execution_count": 214,
   "metadata": {},
   "outputs": [],
   "source": [
    "import mailparser\n",
    "from bs4 import BeautifulSoup\n",
    "from pprint import pprint\n",
    "import os\n",
    "from dotenv import load_dotenv\n",
    "import re\n",
    "\n",
    "'''\n",
    "Description: \n",
    "I get too many emails. I just want to see headers that seem the most relevant to me and are less likely to be spam. I'll go check if out if I care. \n",
    "\n",
    "TODO: \n",
    "- Parse out headings from each email\n",
    "- Rank them by importance/relevance/likelihood to be an ad\n",
    "- Create output email with headings + which email it came from\n",
    "- Pull emails from sender\n",
    "- Send email to me\n",
    "'''\n",
    "\n",
    "load_dotenv()\n",
    "openapi_key = os.environ['OPENAI_KEY']\n",
    "sender_email = os.environ['SENDER_EMAIL']\n",
    "sender_password = os.environ['SENDER_PASSWORD']"
   ]
  },
  {
   "attachments": {},
   "cell_type": "markdown",
   "metadata": {},
   "source": [
    "# Exploring Email"
   ]
  },
  {
   "cell_type": "code",
   "execution_count": 149,
   "metadata": {},
   "outputs": [],
   "source": [
    "class MyEmail:\n",
    "\n",
    "    def __init__(self, email): \n",
    "        self.email = email\n",
    "        self.sender = re.findall('^(.*)<', email.headers['From'])[0].strip()\n",
    "        self.soup = BeautifulSoup(email.text_html[0], 'html.parser')\n",
    "\n",
    "        self.headings_list = [f\"{e.name}:{e.text.strip()}\" for e in self.soup.findAll(['h1', 'h2', 'h3', 'h4', 'h5', 'h6', 'a'])]\n",
    "        self.headings_text = \"\\n\".join(self.headings_list)\n",
    "        self.email_text = re.sub(r'\\n+', '\\n', str(self.soup.text))\n",
    "\n",
    "    # TODO: Langchain prompt to get top headlines\n",
    "    def get_top_headlines(self): \n",
    "        pass\n",
    "\n",
    "    def set_headlines(self, headlines): \n",
    "        self.headlines = headlines"
   ]
  },
  {
   "cell_type": "code",
   "execution_count": 150,
   "metadata": {},
   "outputs": [],
   "source": [
    "emails = []\n",
    "for email_filename in os.listdir('./emails'): \n",
    "  with open(f'./emails/{email_filename}', 'rb') as f:\n",
    "    email_str = f.read()\n",
    "  mail = mailparser.parse_from_string(email_str.decode())\n",
    "  my_email = MyEmail(mail)\n",
    "  emails.append(my_email)\n"
   ]
  },
  {
   "attachments": {},
   "cell_type": "markdown",
   "metadata": {},
   "source": [
    "# Prompt Engineering"
   ]
  },
  {
   "attachments": {},
   "cell_type": "markdown",
   "metadata": {},
   "source": [
    "1. Try just pulling out the important headings from the h tags. Then pull out text and summarize each section\n",
    "2. Try summarizing the whole document \n",
    "3. Follow up prompt to pull out the most interesting topics for a persona\n",
    "\n",
    "NOTES: \n",
    "- Uses subheadings as headings -> can't distinguish nested structure from tags\n"
   ]
  },
  {
   "cell_type": "code",
   "execution_count": 155,
   "metadata": {},
   "outputs": [],
   "source": [
    "from langchain import PromptTemplate, LLMChain\n",
    "from langchain.llms import OpenAI\n",
    "\n",
    "davinci = OpenAI(model_name='text-davinci-003', openai_api_key=openapi_key, temperature=0.6)\n"
   ]
  },
  {
   "cell_type": "code",
   "execution_count": 156,
   "metadata": {},
   "outputs": [],
   "source": [
    "# Pull out the newsletter headlines \n",
    "\n",
    "template = \"\"\"Question: Retrieve the 5 most important and intriguing article headlines from the following newsletter snippets. Avoid headlines for ads or promotions. Ignore headlines that are very vague and uninformative. If no valid headlines are present, truthfully answer no valid headlines found.\n",
    "\n",
    "{newsletter_headings}\n",
    "\n",
    "Answer: \"\"\"\n",
    "prompt = PromptTemplate(\n",
    "    template=template,\n",
    "    input_variables=['newsletter_headings']\n",
    ")"
   ]
  },
  {
   "cell_type": "code",
   "execution_count": 157,
   "metadata": {},
   "outputs": [],
   "source": [
    "llm_chain = LLMChain(\n",
    "    prompt=prompt,\n",
    "    llm=davinci\n",
    ")"
   ]
  },
  {
   "cell_type": "code",
   "execution_count": null,
   "metadata": {},
   "outputs": [],
   "source": [
    "# for e in emails: \n",
    "# DEV: Not able to run this in a loop?\n",
    "e = emails[5]\n",
    "print(f\"Generating headlines for {e.sender}...\")\n",
    "headlines = llm_chain.run(e.headings_text)\n",
    "print(headlines)\n",
    "with open(f'./outputs/v2_headings/{e.sender}.txt', 'w') as f: \n",
    "    f.write(headlines)\n",
    "e.set_headlines(headlines)\n"
   ]
  },
  {
   "attachments": {},
   "cell_type": "markdown",
   "metadata": {},
   "source": [
    "# Construct Email Body"
   ]
  },
  {
   "attachments": {},
   "cell_type": "markdown",
   "metadata": {},
   "source": [
    "Just make it text only for now"
   ]
  },
  {
   "cell_type": "code",
   "execution_count": 207,
   "metadata": {},
   "outputs": [
    {
     "name": "stdout",
     "output_type": "stream",
     "text": [
      "('Morning\\n'\n",
      " '1. Stocks are down—this is up\\n'\n",
      " '2. Tour de headlines\\n'\n",
      " '3. Senators grill Norfolk Southern CEO over derailments\\n'\n",
      " '4. Spotify wants some scroll capital\\n'\n",
      " '5. Key performance indicators\\n'\n",
      " '\\n'\n",
      " 'ByteByteGo\\n'\n",
      " '1. From 0 to Millions: A Guide to Scaling Your App - Final Part\\n'\n",
      " '2. Scaling Modern Startup Stack\\n'\n",
      " '3. Monitoring and Observability\\n'\n",
      " '4. Scaling the Serverless Database Tier\\n'\n",
      " '5. Database Sharding\\n'\n",
      " '\\n'\n",
      " 'TLDR\\n'\n",
      " '1. Spotify’s new design is part TikTok, part Instagram, and part YouTube (3 '\n",
      " 'minute read)\\n'\n",
      " '2. Google’s PaLM-E is a generalist robot brain that takes commands (4 minute '\n",
      " 'read)\\n'\n",
      " '3. This geothermal startup showed its wells can be used like a giant '\n",
      " 'underground battery (11 minute read)\\n'\n",
      " '4. Researchers develop blood test for anxiety (3 minute read)\\n'\n",
      " '5. AI Looks Like a Bubble (15 minute read)\\n'\n",
      " '\\n'\n",
      " 'Tech\\n'\n",
      " '1. Does the 5G Rollout Mean 3G Shutdowns? \\n'\n",
      " '2. Companies Ordered More Robots in 2022 \\n'\n",
      " '3. A New Sales Execution Era Approaches… \\n'\n",
      " '4. Inside Delta’s Big-Dollar, Multiyear Push to Bring Free In-Flight Wi-Fi '\n",
      " 'to the Masses \\n'\n",
      " '5. How Google’s 2021 AI Ethics Debate Foreshadowed the Future\\n'\n",
      " '\\n')\n"
     ]
    }
   ],
   "source": [
    "response_body = \"\"\n",
    "\n",
    "for filename in os.listdir('./outputs/v2_headings/'): \n",
    "    with open(f'./outputs/v2_headings/{filename}', 'r') as f: \n",
    "        text = f.read()\n",
    "        if \"No valid\" in text: \n",
    "            continue\n",
    "\n",
    "        response_body += os.path.splitext(filename)[0] + \"\\n\" +  text.strip() + \"\\n\\n\" \n",
    "\n",
    "with open('summary/v1/response.txt', 'w') as f: \n",
    "    f.write(response_body)\n",
    "\n",
    "pprint(response_body)"
   ]
  },
  {
   "attachments": {},
   "cell_type": "markdown",
   "metadata": {},
   "source": [
    "# Send basic email"
   ]
  },
  {
   "cell_type": "code",
   "execution_count": 218,
   "metadata": {},
   "outputs": [
    {
     "name": "stdout",
     "output_type": "stream",
     "text": [
      "Message Id: 186d278c38df7daf\n"
     ]
    },
    {
     "data": {
      "text/plain": [
       "{'id': '186d278c38df7daf',\n",
       " 'threadId': '186d278c38df7daf',\n",
       " 'labelIds': ['SENT']}"
      ]
     },
     "execution_count": 218,
     "metadata": {},
     "output_type": "execute_result"
    }
   ],
   "source": [
    "from send_message import gmail_send_message\n",
    "gmail_send_message(\"Newsletter Digest :)\", \"handarishub@gmail.com\", response_body)\n"
   ]
  },
  {
   "cell_type": "code",
   "execution_count": null,
   "metadata": {},
   "outputs": [],
   "source": []
  }
 ],
 "metadata": {
  "kernelspec": {
   "display_name": "chefai",
   "language": "python",
   "name": "python3"
  },
  "language_info": {
   "codemirror_mode": {
    "name": "ipython",
    "version": 3
   },
   "file_extension": ".py",
   "mimetype": "text/x-python",
   "name": "python",
   "nbconvert_exporter": "python",
   "pygments_lexer": "ipython3",
   "version": "3.10.9"
  },
  "orig_nbformat": 4,
  "vscode": {
   "interpreter": {
    "hash": "c9ab0ce77429bf21b162946c86867728d57398e1f0c531e1779451da9d57cc1d"
   }
  }
 },
 "nbformat": 4,
 "nbformat_minor": 2
}
